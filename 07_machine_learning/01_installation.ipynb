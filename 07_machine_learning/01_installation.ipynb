{
 "cells": [
  {
   "cell_type": "code",
   "execution_count": null,
   "metadata": {},
   "outputs": [],
   "source": [
    "# Steps\n",
    "1. Create a new conda Environment `python_ml`\n",
    "2. Install the following packages\n",
    "    1. python\n",
    "        2. numpy\n",
    "        3. pandas\n",
    "        4. matplotlib\n",
    "        5. seaborn\n",
    "        6. scikit-learn\n",
    "        7. jupyter\n",
    "        8. scipy\n",
    "        9. openpyxl\n",
    "        10. plotly\n"
   ]
  }
 ],
 "metadata": {
  "language_info": {
   "name": "python"
  }
 },
 "nbformat": 4,
 "nbformat_minor": 2
}
